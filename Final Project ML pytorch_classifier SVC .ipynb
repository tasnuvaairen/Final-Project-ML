{
 "cells": [
  {
   "cell_type": "code",
   "execution_count": 1,
   "metadata": {},
   "outputs": [
    {
     "name": "stdout",
     "output_type": "stream",
     "text": [
      "1.3.1\n"
     ]
    }
   ],
   "source": [
    "# Import all the necessary libraries\n",
    "\n",
    "import copy\n",
    "import math\n",
    "\n",
    "import numpy as np  \n",
    "import pandas as pd\n",
    "\n",
    "import seaborn as sns\n",
    "import matplotlib.pyplot as plt\n",
    "\n",
    "import mplcursors\n",
    "import mpld3\n",
    "\n",
    "from sklearn.model_selection import train_test_split \n",
    "from sklearn.linear_model import LinearRegression\n",
    "from sklearn import metrics\n",
    "\n",
    "import torch\n",
    "import torch.nn as nn\n",
    "import torch.optim as optim\n",
    "from torch.autograd import Variable\n",
    "\n",
    "print(torch.__version__)\n",
    "\n",
    "%matplotlib inline"
   ]
  },
  {
   "cell_type": "markdown",
   "metadata": {},
   "source": [
    "## Read the CSV and Perform Basic Data Cleaning"
   ]
  },
  {
   "cell_type": "code",
   "execution_count": 2,
   "metadata": {},
   "outputs": [
    {
     "data": {
      "text/html": [
       "<div>\n",
       "<style scoped>\n",
       "    .dataframe tbody tr th:only-of-type {\n",
       "        vertical-align: middle;\n",
       "    }\n",
       "\n",
       "    .dataframe tbody tr th {\n",
       "        vertical-align: top;\n",
       "    }\n",
       "\n",
       "    .dataframe thead th {\n",
       "        text-align: right;\n",
       "    }\n",
       "</style>\n",
       "<table border=\"1\" class=\"dataframe\">\n",
       "  <thead>\n",
       "    <tr style=\"text-align: right;\">\n",
       "      <th></th>\n",
       "      <th>App</th>\n",
       "      <th>Category</th>\n",
       "      <th>Rating</th>\n",
       "      <th>Reviews</th>\n",
       "      <th>Size</th>\n",
       "      <th>Installs</th>\n",
       "      <th>Type</th>\n",
       "      <th>Price</th>\n",
       "      <th>Content Rating</th>\n",
       "      <th>Genres</th>\n",
       "      <th>Last Updated</th>\n",
       "      <th>Current Ver</th>\n",
       "      <th>Android Ver</th>\n",
       "    </tr>\n",
       "  </thead>\n",
       "  <tbody>\n",
       "    <tr>\n",
       "      <th>0</th>\n",
       "      <td>Photo Editor &amp; Candy Camera &amp; Grid &amp; ScrapBook</td>\n",
       "      <td>ART_AND_DESIGN</td>\n",
       "      <td>4.1</td>\n",
       "      <td>159</td>\n",
       "      <td>19M</td>\n",
       "      <td>10,000+</td>\n",
       "      <td>Free</td>\n",
       "      <td>0</td>\n",
       "      <td>Everyone</td>\n",
       "      <td>Art &amp; Design</td>\n",
       "      <td>January 7, 2018</td>\n",
       "      <td>1.0.0</td>\n",
       "      <td>4.0.3 and up</td>\n",
       "    </tr>\n",
       "    <tr>\n",
       "      <th>1</th>\n",
       "      <td>Coloring book moana</td>\n",
       "      <td>ART_AND_DESIGN</td>\n",
       "      <td>3.9</td>\n",
       "      <td>967</td>\n",
       "      <td>14M</td>\n",
       "      <td>500,000+</td>\n",
       "      <td>Free</td>\n",
       "      <td>0</td>\n",
       "      <td>Everyone</td>\n",
       "      <td>Art &amp; Design;Pretend Play</td>\n",
       "      <td>January 15, 2018</td>\n",
       "      <td>2.0.0</td>\n",
       "      <td>4.0.3 and up</td>\n",
       "    </tr>\n",
       "  </tbody>\n",
       "</table>\n",
       "</div>"
      ],
      "text/plain": [
       "                                              App        Category  Rating  \\\n",
       "0  Photo Editor & Candy Camera & Grid & ScrapBook  ART_AND_DESIGN     4.1   \n",
       "1                             Coloring book moana  ART_AND_DESIGN     3.9   \n",
       "\n",
       "  Reviews Size  Installs  Type Price Content Rating  \\\n",
       "0     159  19M   10,000+  Free     0       Everyone   \n",
       "1     967  14M  500,000+  Free     0       Everyone   \n",
       "\n",
       "                      Genres      Last Updated Current Ver   Android Ver  \n",
       "0               Art & Design   January 7, 2018       1.0.0  4.0.3 and up  \n",
       "1  Art & Design;Pretend Play  January 15, 2018       2.0.0  4.0.3 and up  "
      ]
     },
     "execution_count": 2,
     "metadata": {},
     "output_type": "execute_result"
    }
   ],
   "source": [
    "df = pd.read_csv(\"googleplaystore.csv\")\n",
    "# Drop the null columns where all values are null\n",
    "df = df.dropna(axis='columns', how='all')\n",
    "# Drop the null rows\n",
    "df = df.dropna()\n",
    "df.head(2)"
   ]
  },
  {
   "cell_type": "code",
   "execution_count": 3,
   "metadata": {},
   "outputs": [],
   "source": [
    "#df.info()#Check the data type of the column values whether they are object or float\n",
    "#df.info()"
   ]
  },
  {
   "cell_type": "code",
   "execution_count": 4,
   "metadata": {},
   "outputs": [
    {
     "data": {
      "text/html": [
       "<div>\n",
       "<style scoped>\n",
       "    .dataframe tbody tr th:only-of-type {\n",
       "        vertical-align: middle;\n",
       "    }\n",
       "\n",
       "    .dataframe tbody tr th {\n",
       "        vertical-align: top;\n",
       "    }\n",
       "\n",
       "    .dataframe thead th {\n",
       "        text-align: right;\n",
       "    }\n",
       "</style>\n",
       "<table border=\"1\" class=\"dataframe\">\n",
       "  <thead>\n",
       "    <tr style=\"text-align: right;\">\n",
       "      <th></th>\n",
       "      <th>App</th>\n",
       "      <th>Category</th>\n",
       "      <th>Rating</th>\n",
       "      <th>Reviews</th>\n",
       "      <th>Size</th>\n",
       "      <th>Installs</th>\n",
       "      <th>Type</th>\n",
       "      <th>Price</th>\n",
       "      <th>Content Rating</th>\n",
       "      <th>Genres</th>\n",
       "      <th>Last Updated</th>\n",
       "      <th>Current Ver</th>\n",
       "      <th>Android Ver</th>\n",
       "    </tr>\n",
       "  </thead>\n",
       "  <tbody>\n",
       "    <tr>\n",
       "      <th>0</th>\n",
       "      <td>Photo Editor &amp; Candy Camera &amp; Grid &amp; ScrapBook</td>\n",
       "      <td>ART_AND_DESIGN</td>\n",
       "      <td>4.1</td>\n",
       "      <td>159</td>\n",
       "      <td>19M</td>\n",
       "      <td>10,000+</td>\n",
       "      <td>Free</td>\n",
       "      <td>0</td>\n",
       "      <td>Everyone</td>\n",
       "      <td>Art &amp; Design</td>\n",
       "      <td>January 7, 2018</td>\n",
       "      <td>1.0.0</td>\n",
       "      <td>4.0.3 and up</td>\n",
       "    </tr>\n",
       "    <tr>\n",
       "      <th>1</th>\n",
       "      <td>Coloring book moana</td>\n",
       "      <td>ART_AND_DESIGN</td>\n",
       "      <td>3.9</td>\n",
       "      <td>967</td>\n",
       "      <td>14M</td>\n",
       "      <td>500,000+</td>\n",
       "      <td>Free</td>\n",
       "      <td>0</td>\n",
       "      <td>Everyone</td>\n",
       "      <td>Art &amp; Design;Pretend Play</td>\n",
       "      <td>January 15, 2018</td>\n",
       "      <td>2.0.0</td>\n",
       "      <td>4.0.3 and up</td>\n",
       "    </tr>\n",
       "  </tbody>\n",
       "</table>\n",
       "</div>"
      ],
      "text/plain": [
       "                                              App        Category  Rating  \\\n",
       "0  Photo Editor & Candy Camera & Grid & ScrapBook  ART_AND_DESIGN     4.1   \n",
       "1                             Coloring book moana  ART_AND_DESIGN     3.9   \n",
       "\n",
       "  Reviews Size  Installs  Type Price Content Rating  \\\n",
       "0     159  19M   10,000+  Free     0       Everyone   \n",
       "1     967  14M  500,000+  Free     0       Everyone   \n",
       "\n",
       "                      Genres      Last Updated Current Ver   Android Ver  \n",
       "0               Art & Design   January 7, 2018       1.0.0  4.0.3 and up  \n",
       "1  Art & Design;Pretend Play  January 15, 2018       2.0.0  4.0.3 and up  "
      ]
     },
     "execution_count": 4,
     "metadata": {},
     "output_type": "execute_result"
    }
   ],
   "source": [
    "# Get names of indexes for which column has  a non numeric value\n",
    "indexNames = df[ df['Size'] == 'Varies with device' ].index\n",
    "# Delete these row indexes from dataFrame\n",
    "df.drop(indexNames , inplace=True)\n",
    "df.head(2)"
   ]
  },
  {
   "cell_type": "code",
   "execution_count": 5,
   "metadata": {},
   "outputs": [
    {
     "name": "stdout",
     "output_type": "stream",
     "text": [
      "<class 'pandas.core.frame.DataFrame'>\n",
      "Int64Index: 7723 entries, 0 to 10840\n",
      "Data columns (total 13 columns):\n",
      " #   Column          Non-Null Count  Dtype  \n",
      "---  ------          --------------  -----  \n",
      " 0   App             7723 non-null   object \n",
      " 1   Category        7723 non-null   object \n",
      " 2   Rating          7723 non-null   float64\n",
      " 3   Reviews         7723 non-null   float64\n",
      " 4   Size            7723 non-null   float64\n",
      " 5   Installs        7723 non-null   float64\n",
      " 6   Type            7723 non-null   object \n",
      " 7   Price           7723 non-null   float64\n",
      " 8   Content Rating  7723 non-null   object \n",
      " 9   Genres          7723 non-null   object \n",
      " 10  Last Updated    7723 non-null   object \n",
      " 11  Current Ver     7723 non-null   object \n",
      " 12  Android Ver     7723 non-null   object \n",
      "dtypes: float64(5), object(8)\n",
      "memory usage: 844.7+ KB\n"
     ]
    }
   ],
   "source": [
    "# Get rid of the non numeric values from the rows with numbers\n",
    "\n",
    "df['Price'] = df['Price'].apply(lambda x: x.replace('$', '')\n",
    "                                if isinstance(x, str) else x).astype(float)\n",
    "df['Reviews'] = df['Reviews'].apply(lambda x: x.replace('M', '').replace(',', '').replace('+', '')\n",
    "                                if isinstance(x, str) else x).astype(float) \n",
    "df['Size'] = df['Size'].apply(lambda x: x.replace('M', '').replace(',', '').replace('+', '').replace('k', '')\n",
    "                                if isinstance(x, str) else x).astype(float) \n",
    "df['Installs'] = df['Installs'].apply(lambda x: x.replace('M', '').replace(',', '').replace('+', '')\n",
    "                                if isinstance(x, str) else x).astype(float) \n",
    "\n",
    "df.info()"
   ]
  },
  {
   "cell_type": "code",
   "execution_count": 6,
   "metadata": {},
   "outputs": [],
   "source": [
    "#Save the clean data frame as a new csv file\n",
    "#app_df.to_csv('df')"
   ]
  },
  {
   "cell_type": "code",
   "execution_count": 7,
   "metadata": {},
   "outputs": [
    {
     "data": {
      "text/html": [
       "<div>\n",
       "<style scoped>\n",
       "    .dataframe tbody tr th:only-of-type {\n",
       "        vertical-align: middle;\n",
       "    }\n",
       "\n",
       "    .dataframe tbody tr th {\n",
       "        vertical-align: top;\n",
       "    }\n",
       "\n",
       "    .dataframe thead th {\n",
       "        text-align: right;\n",
       "    }\n",
       "</style>\n",
       "<table border=\"1\" class=\"dataframe\">\n",
       "  <thead>\n",
       "    <tr style=\"text-align: right;\">\n",
       "      <th></th>\n",
       "      <th>App</th>\n",
       "      <th>Category</th>\n",
       "      <th>Rating</th>\n",
       "      <th>Reviews</th>\n",
       "      <th>Size</th>\n",
       "      <th>Installs</th>\n",
       "      <th>Type</th>\n",
       "      <th>Price</th>\n",
       "      <th>ContentRating</th>\n",
       "      <th>Genres</th>\n",
       "      <th>LastUpdated</th>\n",
       "      <th>CurrentVer</th>\n",
       "      <th>AndroidVer</th>\n",
       "      <th>ContentRatingNum</th>\n",
       "    </tr>\n",
       "  </thead>\n",
       "  <tbody>\n",
       "    <tr>\n",
       "      <th>0</th>\n",
       "      <td>Photo Editor &amp; Candy Camera &amp; Grid &amp; ScrapBook</td>\n",
       "      <td>ART_AND_DESIGN</td>\n",
       "      <td>4.1</td>\n",
       "      <td>159.0</td>\n",
       "      <td>19.0</td>\n",
       "      <td>10000.0</td>\n",
       "      <td>Free</td>\n",
       "      <td>0.0</td>\n",
       "      <td>Everyone</td>\n",
       "      <td>Art &amp; Design</td>\n",
       "      <td>January 7, 2018</td>\n",
       "      <td>1.0.0</td>\n",
       "      <td>4.0.3 and up</td>\n",
       "      <td>0.0</td>\n",
       "    </tr>\n",
       "    <tr>\n",
       "      <th>1</th>\n",
       "      <td>Coloring book moana</td>\n",
       "      <td>ART_AND_DESIGN</td>\n",
       "      <td>3.9</td>\n",
       "      <td>967.0</td>\n",
       "      <td>14.0</td>\n",
       "      <td>500000.0</td>\n",
       "      <td>Free</td>\n",
       "      <td>0.0</td>\n",
       "      <td>Everyone</td>\n",
       "      <td>Art &amp; Design;Pretend Play</td>\n",
       "      <td>January 15, 2018</td>\n",
       "      <td>2.0.0</td>\n",
       "      <td>4.0.3 and up</td>\n",
       "      <td>0.0</td>\n",
       "    </tr>\n",
       "  </tbody>\n",
       "</table>\n",
       "</div>"
      ],
      "text/plain": [
       "                                              App        Category  Rating  \\\n",
       "0  Photo Editor & Candy Camera & Grid & ScrapBook  ART_AND_DESIGN     4.1   \n",
       "1                             Coloring book moana  ART_AND_DESIGN     3.9   \n",
       "\n",
       "   Reviews  Size  Installs  Type  Price ContentRating  \\\n",
       "0    159.0  19.0   10000.0  Free    0.0      Everyone   \n",
       "1    967.0  14.0  500000.0  Free    0.0      Everyone   \n",
       "\n",
       "                      Genres       LastUpdated CurrentVer    AndroidVer  \\\n",
       "0               Art & Design   January 7, 2018      1.0.0  4.0.3 and up   \n",
       "1  Art & Design;Pretend Play  January 15, 2018      2.0.0  4.0.3 and up   \n",
       "\n",
       "   ContentRatingNum  \n",
       "0               0.0  \n",
       "1               0.0  "
      ]
     },
     "execution_count": 7,
     "metadata": {},
     "output_type": "execute_result"
    }
   ],
   "source": [
    "# Clean the CSV DF Column headers\n",
    "app_df = df.rename(columns = {'Content Rating':'ContentRating','Last Updated':'LastUpdated', 'Current Ver':'CurrentVer','Android Ver':'AndroidVer'})\n",
    "app_df['ContentRatingNum']=0.0\n",
    "app_df.head(2)"
   ]
  },
  {
   "cell_type": "code",
   "execution_count": 8,
   "metadata": {},
   "outputs": [
    {
     "name": "stdout",
     "output_type": "stream",
     "text": [
      "{'Everyone': 1.0, 'Teen': 3.0, 'Everyone 10+': 5.0, 'Mature 17+': 7.0, 'Adults only 18+': 9.0, 'Unrated': 11.0}\n",
      "{1.0: 'Everyone', 3.0: 'Teen', 5.0: 'Everyone 10+', 7.0: 'Mature 17+', 9.0: 'Adults only 18+', 11.0: 'Unrated'}\n"
     ]
    },
    {
     "data": {
      "text/html": [
       "<div>\n",
       "<style scoped>\n",
       "    .dataframe tbody tr th:only-of-type {\n",
       "        vertical-align: middle;\n",
       "    }\n",
       "\n",
       "    .dataframe tbody tr th {\n",
       "        vertical-align: top;\n",
       "    }\n",
       "\n",
       "    .dataframe thead th {\n",
       "        text-align: right;\n",
       "    }\n",
       "</style>\n",
       "<table border=\"1\" class=\"dataframe\">\n",
       "  <thead>\n",
       "    <tr style=\"text-align: right;\">\n",
       "      <th></th>\n",
       "      <th>App</th>\n",
       "      <th>Category</th>\n",
       "      <th>Rating</th>\n",
       "      <th>Reviews</th>\n",
       "      <th>Size</th>\n",
       "      <th>Installs</th>\n",
       "      <th>Type</th>\n",
       "      <th>Price</th>\n",
       "      <th>ContentRating</th>\n",
       "      <th>Genres</th>\n",
       "      <th>LastUpdated</th>\n",
       "      <th>CurrentVer</th>\n",
       "      <th>AndroidVer</th>\n",
       "      <th>ContentRatingNum</th>\n",
       "    </tr>\n",
       "  </thead>\n",
       "  <tbody>\n",
       "    <tr>\n",
       "      <th>0</th>\n",
       "      <td>Photo Editor &amp; Candy Camera &amp; Grid &amp; ScrapBook</td>\n",
       "      <td>ART_AND_DESIGN</td>\n",
       "      <td>4.1</td>\n",
       "      <td>159.0</td>\n",
       "      <td>19.0</td>\n",
       "      <td>10000.0</td>\n",
       "      <td>Free</td>\n",
       "      <td>0.0</td>\n",
       "      <td>Everyone</td>\n",
       "      <td>Art &amp; Design</td>\n",
       "      <td>January 7, 2018</td>\n",
       "      <td>1.0.0</td>\n",
       "      <td>4.0.3 and up</td>\n",
       "      <td>1.0</td>\n",
       "    </tr>\n",
       "    <tr>\n",
       "      <th>1</th>\n",
       "      <td>Coloring book moana</td>\n",
       "      <td>ART_AND_DESIGN</td>\n",
       "      <td>3.9</td>\n",
       "      <td>967.0</td>\n",
       "      <td>14.0</td>\n",
       "      <td>500000.0</td>\n",
       "      <td>Free</td>\n",
       "      <td>0.0</td>\n",
       "      <td>Everyone</td>\n",
       "      <td>Art &amp; Design;Pretend Play</td>\n",
       "      <td>January 15, 2018</td>\n",
       "      <td>2.0.0</td>\n",
       "      <td>4.0.3 and up</td>\n",
       "      <td>1.0</td>\n",
       "    </tr>\n",
       "    <tr>\n",
       "      <th>2</th>\n",
       "      <td>U Launcher Lite – FREE Live Cool Themes, Hide ...</td>\n",
       "      <td>ART_AND_DESIGN</td>\n",
       "      <td>4.7</td>\n",
       "      <td>87510.0</td>\n",
       "      <td>8.7</td>\n",
       "      <td>5000000.0</td>\n",
       "      <td>Free</td>\n",
       "      <td>0.0</td>\n",
       "      <td>Everyone</td>\n",
       "      <td>Art &amp; Design</td>\n",
       "      <td>August 1, 2018</td>\n",
       "      <td>1.2.4</td>\n",
       "      <td>4.0.3 and up</td>\n",
       "      <td>1.0</td>\n",
       "    </tr>\n",
       "  </tbody>\n",
       "</table>\n",
       "</div>"
      ],
      "text/plain": [
       "                                                 App        Category  Rating  \\\n",
       "0     Photo Editor & Candy Camera & Grid & ScrapBook  ART_AND_DESIGN     4.1   \n",
       "1                                Coloring book moana  ART_AND_DESIGN     3.9   \n",
       "2  U Launcher Lite – FREE Live Cool Themes, Hide ...  ART_AND_DESIGN     4.7   \n",
       "\n",
       "   Reviews  Size   Installs  Type  Price ContentRating  \\\n",
       "0    159.0  19.0    10000.0  Free    0.0      Everyone   \n",
       "1    967.0  14.0   500000.0  Free    0.0      Everyone   \n",
       "2  87510.0   8.7  5000000.0  Free    0.0      Everyone   \n",
       "\n",
       "                      Genres       LastUpdated CurrentVer    AndroidVer  \\\n",
       "0               Art & Design   January 7, 2018      1.0.0  4.0.3 and up   \n",
       "1  Art & Design;Pretend Play  January 15, 2018      2.0.0  4.0.3 and up   \n",
       "2               Art & Design    August 1, 2018      1.2.4  4.0.3 and up   \n",
       "\n",
       "   ContentRatingNum  \n",
       "0               1.0  \n",
       "1               1.0  \n",
       "2               1.0  "
      ]
     },
     "execution_count": 8,
     "metadata": {},
     "output_type": "execute_result"
    }
   ],
   "source": [
    "#print(app_df.Category.unique())\n",
    "#print(app_df.ContentRating.unique())\n",
    "\n",
    "ContentRating_dict = dict()\n",
    "ContentRating_dict_2 = dict()\n",
    "\n",
    "\n",
    "ContentRating_int = 1.0\n",
    "for i in app_df.ContentRating.unique() :\n",
    "    ContentRating_dict[i] = ContentRating_int\n",
    "    ContentRating_dict_2[ContentRating_int] = i\n",
    "    ContentRating_int = ContentRating_int + 2.0\n",
    "    \n",
    "for i in range(len(app_df)) :\n",
    "    u = app_df['ContentRating'].values[i]\n",
    "    v = ContentRating_dict.get(u, 0.0)\n",
    "    app_df['ContentRatingNum'].values[i] = v    \n",
    "    #print(v)\n",
    "\n",
    "app_df_copy = app_df.copy(deep=True)    \n",
    "\n",
    "print(ContentRating_dict)\n",
    "print(ContentRating_dict_2)\n",
    "\n",
    "app_df.head(3)"
   ]
  },
  {
   "cell_type": "code",
   "execution_count": 9,
   "metadata": {},
   "outputs": [],
   "source": [
    "#PyTorch"
   ]
  },
  {
   "cell_type": "code",
   "execution_count": 10,
   "metadata": {},
   "outputs": [],
   "source": [
    "class SVM(nn.Module):\n",
    "    \"\"\"\n",
    "    Linear Support Vector Machine\n",
    "    -----------------------------\n",
    "    This SVM is a subclass of the PyTorch nn module that\n",
    "    implements the Linear  function. The  size  of  each \n",
    "    input sample is 5 and output sample  is 1.\n",
    "    \"\"\"\n",
    "    def __init__(self):\n",
    "        super().__init__()  # Call the init function of nn.Module\n",
    "        self.fully_connected = nn.Linear(5, 1) #(2, 1)  # Implement the Linear function \n",
    "        # 5 = X_train.shape[1], i.e., number of features\n",
    "        \n",
    "    def forward(self, x):\n",
    "        fwd = self.fully_connected(x)  # Forward pass\n",
    "        return fwd"
   ]
  },
  {
   "cell_type": "code",
   "execution_count": 11,
   "metadata": {},
   "outputs": [],
   "source": [
    "#dtype = torch.float\n",
    "#device = torch.device(\"cpu\")\n",
    "# device = torch.device(\"cuda:0\") # Uncomment this to run on GPU"
   ]
  },
  {
   "cell_type": "code",
   "execution_count": 12,
   "metadata": {},
   "outputs": [
    {
     "data": {
      "text/html": [
       "<div>\n",
       "<style scoped>\n",
       "    .dataframe tbody tr th:only-of-type {\n",
       "        vertical-align: middle;\n",
       "    }\n",
       "\n",
       "    .dataframe tbody tr th {\n",
       "        vertical-align: top;\n",
       "    }\n",
       "\n",
       "    .dataframe thead th {\n",
       "        text-align: right;\n",
       "    }\n",
       "</style>\n",
       "<table border=\"1\" class=\"dataframe\">\n",
       "  <thead>\n",
       "    <tr style=\"text-align: right;\">\n",
       "      <th></th>\n",
       "      <th>Reviews</th>\n",
       "      <th>Price</th>\n",
       "      <th>Size</th>\n",
       "      <th>Installs</th>\n",
       "      <th>Rating</th>\n",
       "      <th>ContentRatingNum</th>\n",
       "    </tr>\n",
       "  </thead>\n",
       "  <tbody>\n",
       "    <tr>\n",
       "      <th>0</th>\n",
       "      <td>-0.158128</td>\n",
       "      <td>-0.064807</td>\n",
       "      <td>-0.195709</td>\n",
       "      <td>-0.167753</td>\n",
       "      <td>-0.135751</td>\n",
       "      <td>1.0</td>\n",
       "    </tr>\n",
       "    <tr>\n",
       "      <th>1</th>\n",
       "      <td>-0.157694</td>\n",
       "      <td>-0.064807</td>\n",
       "      <td>-0.249161</td>\n",
       "      <td>-0.157984</td>\n",
       "      <td>-0.502967</td>\n",
       "      <td>1.0</td>\n",
       "    </tr>\n",
       "    <tr>\n",
       "      <th>2</th>\n",
       "      <td>-0.111264</td>\n",
       "      <td>-0.064807</td>\n",
       "      <td>-0.305820</td>\n",
       "      <td>-0.068266</td>\n",
       "      <td>0.965898</td>\n",
       "      <td>1.0</td>\n",
       "    </tr>\n",
       "    <tr>\n",
       "      <th>3</th>\n",
       "      <td>-0.042520</td>\n",
       "      <td>-0.064807</td>\n",
       "      <td>-0.131567</td>\n",
       "      <td>0.828909</td>\n",
       "      <td>0.598682</td>\n",
       "      <td>3.0</td>\n",
       "    </tr>\n",
       "    <tr>\n",
       "      <th>4</th>\n",
       "      <td>-0.157694</td>\n",
       "      <td>-0.064807</td>\n",
       "      <td>-0.368893</td>\n",
       "      <td>-0.165959</td>\n",
       "      <td>0.231466</td>\n",
       "      <td>1.0</td>\n",
       "    </tr>\n",
       "    <tr>\n",
       "      <th>...</th>\n",
       "      <td>...</td>\n",
       "      <td>...</td>\n",
       "      <td>...</td>\n",
       "      <td>...</td>\n",
       "      <td>...</td>\n",
       "      <td>...</td>\n",
       "    </tr>\n",
       "    <tr>\n",
       "      <th>10833</th>\n",
       "      <td>-0.158189</td>\n",
       "      <td>-0.064807</td>\n",
       "      <td>6.218506</td>\n",
       "      <td>-0.167933</td>\n",
       "      <td>1.149506</td>\n",
       "      <td>1.0</td>\n",
       "    </tr>\n",
       "    <tr>\n",
       "      <th>10834</th>\n",
       "      <td>-0.158209</td>\n",
       "      <td>-0.064807</td>\n",
       "      <td>-0.371031</td>\n",
       "      <td>-0.167943</td>\n",
       "      <td>-0.319359</td>\n",
       "      <td>1.0</td>\n",
       "    </tr>\n",
       "    <tr>\n",
       "      <th>10836</th>\n",
       "      <td>-0.158193</td>\n",
       "      <td>-0.064807</td>\n",
       "      <td>0.167763</td>\n",
       "      <td>-0.167853</td>\n",
       "      <td>0.598682</td>\n",
       "      <td>1.0</td>\n",
       "    </tr>\n",
       "    <tr>\n",
       "      <th>10837</th>\n",
       "      <td>-0.158211</td>\n",
       "      <td>-0.064807</td>\n",
       "      <td>-0.360341</td>\n",
       "      <td>-0.167951</td>\n",
       "      <td>1.516722</td>\n",
       "      <td>1.0</td>\n",
       "    </tr>\n",
       "    <tr>\n",
       "      <th>10840</th>\n",
       "      <td>0.055479</td>\n",
       "      <td>-0.064807</td>\n",
       "      <td>-0.195709</td>\n",
       "      <td>0.031420</td>\n",
       "      <td>0.598682</td>\n",
       "      <td>1.0</td>\n",
       "    </tr>\n",
       "  </tbody>\n",
       "</table>\n",
       "<p>7723 rows × 6 columns</p>\n",
       "</div>"
      ],
      "text/plain": [
       "        Reviews     Price      Size  Installs    Rating  ContentRatingNum\n",
       "0     -0.158128 -0.064807 -0.195709 -0.167753 -0.135751               1.0\n",
       "1     -0.157694 -0.064807 -0.249161 -0.157984 -0.502967               1.0\n",
       "2     -0.111264 -0.064807 -0.305820 -0.068266  0.965898               1.0\n",
       "3     -0.042520 -0.064807 -0.131567  0.828909  0.598682               3.0\n",
       "4     -0.157694 -0.064807 -0.368893 -0.165959  0.231466               1.0\n",
       "...         ...       ...       ...       ...       ...               ...\n",
       "10833 -0.158189 -0.064807  6.218506 -0.167933  1.149506               1.0\n",
       "10834 -0.158209 -0.064807 -0.371031 -0.167943 -0.319359               1.0\n",
       "10836 -0.158193 -0.064807  0.167763 -0.167853  0.598682               1.0\n",
       "10837 -0.158211 -0.064807 -0.360341 -0.167951  1.516722               1.0\n",
       "10840  0.055479 -0.064807 -0.195709  0.031420  0.598682               1.0\n",
       "\n",
       "[7723 rows x 6 columns]"
      ]
     },
     "execution_count": 12,
     "metadata": {},
     "output_type": "execute_result"
    }
   ],
   "source": [
    "app_df_copy.head()\n",
    "\n",
    "app_df_copy.fillna(0.1)\n",
    "\n",
    "data_g = app_df_copy[['Reviews', 'Price', 'Size', 'Installs', 'Rating']]\n",
    "data_g = data_g.apply(\n",
    "    lambda x: (x - x.mean()) / x.std()\n",
    ")\n",
    "\n",
    "data_g['ContentRatingNum'] = app_df_copy.ContentRatingNum\n",
    "\n",
    "data_g"
   ]
  },
  {
   "cell_type": "code",
   "execution_count": 13,
   "metadata": {},
   "outputs": [],
   "source": [
    "X_g = data_g.drop('ContentRatingNum', axis=1).to_numpy()\n",
    "Y_g = data_g['ContentRatingNum'].to_numpy()\n",
    "#X_g"
   ]
  },
  {
   "cell_type": "code",
   "execution_count": 14,
   "metadata": {},
   "outputs": [
    {
     "name": "stdout",
     "output_type": "stream",
     "text": [
      "(5406, 5)\n",
      "(2317, 5)\n",
      "(5406,)\n",
      "(2317,)\n"
     ]
    }
   ],
   "source": [
    "X_train, X_test, Y_train, Y_test = train_test_split(X_g, Y_g, test_size=0.3, random_state=42)\n",
    "print(X_train.shape)\n",
    "print(X_test.shape)\n",
    "print(Y_train.shape)\n",
    "print(Y_test.shape)"
   ]
  },
  {
   "cell_type": "code",
   "execution_count": 15,
   "metadata": {},
   "outputs": [
    {
     "data": {
      "text/plain": [
       "tensor([[-0.1498, -0.0648,  3.5887, -0.0683, -0.5030],\n",
       "        [-0.1570, -0.0648,  0.1571, -0.1580,  0.0479],\n",
       "        [ 0.0668, -0.0648, -0.0674,  0.0314,  0.0479],\n",
       "        ...,\n",
       "        [-0.0401, -0.0648, -0.2812,  0.0314,  1.1495],\n",
       "        [-0.1226, -0.0648, -0.1957, -0.1480,  0.7823],\n",
       "        [-0.1582, -0.0648,  2.2310, -0.1679, -1.4210]])"
      ]
     },
     "execution_count": 15,
     "metadata": {},
     "output_type": "execute_result"
    }
   ],
   "source": [
    "#n_train = X_train.shape[0]\n",
    "X_train = torch.tensor(X_train, dtype=torch.float)\n",
    "X_test = torch.tensor(X_test, dtype=torch.float)\n",
    "Y_train = torch.tensor(Y_train, dtype=torch.float).view(-1, 1)\n",
    "Y_test = torch.tensor(Y_test, dtype=torch.float).view(-1, 1)\n",
    "\n",
    "X_train"
   ]
  },
  {
   "cell_type": "code",
   "execution_count": 16,
   "metadata": {},
   "outputs": [
    {
     "data": {
      "text/plain": [
       "SVM(\n",
       "  (fully_connected): Linear(in_features=5, out_features=1, bias=True)\n",
       ")"
      ]
     },
     "execution_count": 16,
     "metadata": {},
     "output_type": "execute_result"
    }
   ],
   "source": [
    "#SVM\n",
    "\n",
    "N = len(Y_train)  # Number of samples\n",
    "learning_rate = 0.00001 #0.000005  # Learning rate\n",
    "epoch = 25  # Number of epochs\n",
    "batch_size = 35  # Batch size\n",
    "\n",
    "model = SVM()  # Our model\n",
    "\n",
    "#optimizer = optim.SGD(model.parameters(), lr=learning_rate)  # Our optimizer\n",
    "optimizer = optim.SGD(model.parameters(), lr=learning_rate, momentum=0.9)\n",
    "\n",
    "loss = torch.nn.MSELoss() #Mean Square Error(MSE)\n",
    "#criterion = nn.CrossEntropyLoss()\n",
    "\n",
    "model.train()  # Our model, SVM is a subclass of the nn.Module, so it inherits the train method\n"
   ]
  },
  {
   "cell_type": "code",
   "execution_count": 17,
   "metadata": {},
   "outputs": [
    {
     "name": "stdout",
     "output_type": "stream",
     "text": [
      "Done Training.\n"
     ]
    }
   ],
   "source": [
    "for epoch in range(epoch):\n",
    "    perm = torch.randperm(N)  # Generate a set of random numbers of length: sample size\n",
    "    sum_loss = 0  # Loss for each epoch\n",
    "    \n",
    "    for i in range(0, N, batch_size):\n",
    "        x = X_train[perm[i:i + batch_size]]  # Pick random samples by iterating over random permutation\n",
    "        y = Y_train[perm[i:i + batch_size]]  # Pick the correlating class\n",
    "        \n",
    "        x = Variable(x)  # Convert features and classes to variables\n",
    "        y = Variable(y)\n",
    "        \n",
    "        optimizer.zero_grad()  # Manually zero the gradient buffers of the optimizer\n",
    "        output = model(x)  # Compute the output by doing a forward pass\n",
    "        \n",
    "        l = loss(output, y)\n",
    "        #l = criterion(output, y)\n",
    "        #l = torch.mean(torch.clamp(1 - output * y, min=0))  # hinge loss\n",
    "        l.backward()  # Backpropagation\n",
    "        optimizer.step()  # Optimize and adjust weights\n",
    "\n",
    "        #sum_loss += l[0].data.cpu().numpy()  # Add the loss\n",
    "        \n",
    "    #print(\"Epoch {}, Loss: {}\".format(epoch, l.item()))#sum_loss[0]))\n",
    "print(\"Done Training.\")"
   ]
  },
  {
   "cell_type": "code",
   "execution_count": 18,
   "metadata": {},
   "outputs": [
    {
     "name": "stdout",
     "output_type": "stream",
     "text": [
      "3.5474419593811035\n",
      "tensor([0.8463])\n",
      "tensor([1.])\n"
     ]
    }
   ],
   "source": [
    "print(loss(model(X_test), Y_test).item())\n",
    "print(model(X_test[11]).data) # prediction for the 11th item in the list\n",
    "print(Y_test[11]) # actual"
   ]
  },
  {
   "cell_type": "code",
   "execution_count": 19,
   "metadata": {},
   "outputs": [
    {
     "name": "stdout",
     "output_type": "stream",
     "text": [
      "Average error: 37.47947997249597%\n",
      "Average accuracy: 63.76029029678133%\n"
     ]
    },
    {
     "data": {
      "text/html": [
       "<div>\n",
       "<style scoped>\n",
       "    .dataframe tbody tr th:only-of-type {\n",
       "        vertical-align: middle;\n",
       "    }\n",
       "\n",
       "    .dataframe tbody tr th {\n",
       "        vertical-align: top;\n",
       "    }\n",
       "\n",
       "    .dataframe thead th {\n",
       "        text-align: right;\n",
       "    }\n",
       "</style>\n",
       "<table border=\"1\" class=\"dataframe\">\n",
       "  <thead>\n",
       "    <tr style=\"text-align: right;\">\n",
       "      <th></th>\n",
       "      <th>Actual</th>\n",
       "      <th>Predicted</th>\n",
       "    </tr>\n",
       "  </thead>\n",
       "  <tbody>\n",
       "    <tr>\n",
       "      <th>0</th>\n",
       "      <td>3.0</td>\n",
       "      <td>0.573683</td>\n",
       "    </tr>\n",
       "    <tr>\n",
       "      <th>1</th>\n",
       "      <td>1.0</td>\n",
       "      <td>0.833449</td>\n",
       "    </tr>\n",
       "    <tr>\n",
       "      <th>2</th>\n",
       "      <td>1.0</td>\n",
       "      <td>0.650570</td>\n",
       "    </tr>\n",
       "    <tr>\n",
       "      <th>3</th>\n",
       "      <td>1.0</td>\n",
       "      <td>0.734183</td>\n",
       "    </tr>\n",
       "    <tr>\n",
       "      <th>4</th>\n",
       "      <td>1.0</td>\n",
       "      <td>0.871191</td>\n",
       "    </tr>\n",
       "    <tr>\n",
       "      <th>5</th>\n",
       "      <td>1.0</td>\n",
       "      <td>0.613411</td>\n",
       "    </tr>\n",
       "    <tr>\n",
       "      <th>6</th>\n",
       "      <td>1.0</td>\n",
       "      <td>0.783042</td>\n",
       "    </tr>\n",
       "    <tr>\n",
       "      <th>7</th>\n",
       "      <td>1.0</td>\n",
       "      <td>0.674042</td>\n",
       "    </tr>\n",
       "    <tr>\n",
       "      <th>8</th>\n",
       "      <td>3.0</td>\n",
       "      <td>1.067554</td>\n",
       "    </tr>\n",
       "    <tr>\n",
       "      <th>9</th>\n",
       "      <td>1.0</td>\n",
       "      <td>0.680736</td>\n",
       "    </tr>\n",
       "  </tbody>\n",
       "</table>\n",
       "</div>"
      ],
      "text/plain": [
       "   Actual  Predicted\n",
       "0     3.0   0.573683\n",
       "1     1.0   0.833449\n",
       "2     1.0   0.650570\n",
       "3     1.0   0.734183\n",
       "4     1.0   0.871191\n",
       "5     1.0   0.613411\n",
       "6     1.0   0.783042\n",
       "7     1.0   0.674042\n",
       "8     3.0   1.067554\n",
       "9     1.0   0.680736"
      ]
     },
     "execution_count": 19,
     "metadata": {},
     "output_type": "execute_result"
    }
   ],
   "source": [
    "num_of_rows = X_test.shape[0]\n",
    "\n",
    "Y_test_num = [] \n",
    "Y_predicted_num = []\n",
    "\n",
    "for i in range(0,num_of_rows) :\n",
    "    Y_test_num.append(Y_test[i].tolist()[0])\n",
    "    Y_predicted_num.append(model(X_test[i]).tolist()[0])\n",
    "\n",
    "avg_error = 0    \n",
    "avg_acc = 0\n",
    "\n",
    "#print(\"Actual, Predicted, Error, Accuracy\")    \n",
    "for i in range(0,num_of_rows) :\n",
    "    error = (abs(Y_test_num[i] - Y_predicted_num[i])/Y_test_num[i])*100.0\n",
    "    acc = (Y_predicted_num[i] / Y_test_num[i])*100.0 \n",
    "    avg_error = avg_error + error\n",
    "    avg_acc = avg_acc + acc\n",
    "    #print(str(Y_test_num[i]) + \" \" + str(Y_predicted_num[i]) + \" \" + str(error) + \"% \" + str(acc) + \"%\")\n",
    "    \n",
    "avg_error = avg_error / num_of_rows     \n",
    "print(\"Average error: \" + str(avg_error) + \"%\")\n",
    "\n",
    "avg_acc = avg_acc / num_of_rows \n",
    "print(\"Average accuracy: \" + str(avg_acc) + \"%\")\n",
    "\n",
    "out_df = pd.DataFrame(list(zip(Y_test_num, Y_predicted_num)), columns =['Actual', 'Predicted']) \n",
    "out_df.head(10)"
   ]
  },
  {
   "cell_type": "code",
   "execution_count": 20,
   "metadata": {},
   "outputs": [
    {
     "data": {
      "image/png": "[encoded data removed]",
      "text/plain": [
       "<Figure size 1080x576 with 1 Axes>"
      ]
     },
     "metadata": {
      "needs_background": "light"
     },
     "output_type": "display_data"
    }
   ],
   "source": [
    "# Plot the comparison of Actual and Predicted value\n",
    "out_df1 = out_df.head(25)\n",
    "out_df1.plot(kind='bar',figsize=(15,8))\n",
    "plt.grid(which='major', linestyle='-', linewidth='0.5', color='green')\n",
    "plt.grid(which='minor', linestyle=':', linewidth='0.5', color='black')\n",
    "plt.show()"
   ]
  },
  {
   "cell_type": "code",
   "execution_count": 21,
   "metadata": {},
   "outputs": [
    {
     "name": "stdout",
     "output_type": "stream",
     "text": [
      "Mean Absolute Error: 0.9726918243903974\n",
      "Mean Squared Error: 3.547441935877256\n",
      "Root Mean Squared Error: 1.883465406073936\n"
     ]
    }
   ],
   "source": [
    "print('Mean Absolute Error:', metrics.mean_absolute_error(Y_test_num, Y_predicted_num))  \n",
    "print('Mean Squared Error:', metrics.mean_squared_error(Y_test_num, Y_predicted_num))  \n",
    "print('Root Mean Squared Error:', np.sqrt(metrics.mean_squared_error(Y_test_num, Y_predicted_num)))"
   ]
  },
  {
   "cell_type": "code",
   "execution_count": 22,
   "metadata": {},
   "outputs": [
    {
     "data": {
      "text/plain": [
       "Actual\n",
       "1.0    1837\n",
       "3.0     259\n",
       "5.0      92\n",
       "7.0     128\n",
       "9.0       1\n",
       "Name: Predicted, dtype: int64"
      ]
     },
     "execution_count": 22,
     "metadata": {},
     "output_type": "execute_result"
    }
   ],
   "source": [
    "# Label count.\n",
    "groupby_actual = out_df.groupby(\"Actual\", sort=True)[\"Predicted\"].count()\n",
    "groupby_actual.head()"
   ]
  },
  {
   "cell_type": "code",
   "execution_count": 23,
   "metadata": {},
   "outputs": [
    {
     "data": {
      "text/plain": [
       "Actual\n",
       "1.0    0.751177\n",
       "3.0    0.797791\n",
       "5.0    0.822315\n",
       "7.0    0.728243\n",
       "9.0    0.809938\n",
       "Name: Predicted, dtype: float64"
      ]
     },
     "execution_count": 23,
     "metadata": {},
     "output_type": "execute_result"
    }
   ],
   "source": [
    "# Per-label mean accuracy.\n",
    "groupby_actual = out_df.groupby(\"Actual\", sort=True)[\"Predicted\"].mean()\n",
    "groupby_actual.head()"
   ]
  },
  {
   "cell_type": "code",
   "execution_count": 24,
   "metadata": {},
   "outputs": [
    {
     "name": "stdout",
     "output_type": "stream",
     "text": [
      "Accuracy of 'Everyone' : 75.12%\n",
      "Accuracy of 'Teen' : 26.59%\n",
      "Accuracy of 'Everyone 10+' : 16.45%\n",
      "Accuracy of 'Mature 17+' : 10.40%\n",
      "Accuracy of 'Adults only 18+' : 9.00%\n"
     ]
    }
   ],
   "source": [
    "for a, p in groupby_actual.items() :\n",
    "    acc = (p/a)*100.0\n",
    "    label = ContentRating_dict_2.get(a)\n",
    "    print(\"Accuracy of \" + \"'\" + str(label) + \"' : \" + \"{:.2f}\".format(acc) + \"%\")"
   ]
  },
  {
   "cell_type": "code",
   "execution_count": null,
   "metadata": {},
   "outputs": [],
   "source": []
  },
  {
   "cell_type": "code",
   "execution_count": null,
   "metadata": {},
   "outputs": [],
   "source": []
  }
 ],
 "metadata": {
  "kernel_info": {
   "name": "dev"
  },
  "kernelspec": {
   "display_name": "Python 3",
   "language": "python",
   "name": "python3"
  },
  "language_info": {
   "codemirror_mode": {
    "name": "ipython",
    "version": 3
   },
   "file_extension": ".py",
   "mimetype": "text/x-python",
   "name": "python",
   "nbconvert_exporter": "python",
   "pygments_lexer": "ipython3",
   "version": "3.7.6"
  },
  "nteract": {
   "version": "0.12.3"
  }
 },
 "nbformat": 4,
 "nbformat_minor": 2
}
